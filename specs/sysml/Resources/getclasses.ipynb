{
 "cells": [
  {
   "cell_type": "markdown",
   "metadata": {},
   "source": [
    "## Get SysML v2 classes\n",
    "A notebook to get a list of the SysML v2 classes and generate the vocabToShape div sections needed in sysml-shapes.html.\n",
    "\n"
   ]
  },
  {
   "cell_type": "code",
   "execution_count": 1,
   "metadata": {},
   "outputs": [
    {
     "data": {
      "text/plain": [
       "<Graph identifier=Nd7d31ae2ce1f4e35b0d7eccca1f71236 (<class 'rdflib.graph.Graph'>)>"
      ]
     },
     "execution_count": 1,
     "metadata": {},
     "output_type": "execute_result"
    }
   ],
   "source": [
    "# Read and parse the sysml-vocab.ttl file\n",
    "from rdflib import Graph, URIRef, Literal, Namespace, RDF\n",
    "\n",
    "# some useful RDF namespaces\n",
    "rdf = Namespace(\"http://www.w3.org/1999/02/22-rdf-syntax-ns#\")\n",
    "rdfs = Namespace('http://www.w3.org/2000/01/rdf-schema#')\n",
    "dcterms = Namespace('http://purl.org/dc/terms/')\n",
    "oslc = Namespace('http://open-services.net/ns/core#')\n",
    "oslc_am = Namespace('http://open-services.net/ns/am#')\n",
    "oslc_sysmlv2 = Namespace('http://open-services.net/ns/sysmlv2#')\n",
    "\n",
    "g = Graph()\n",
    "g.parse('sysml-vocab-full.ttl')\n"
   ]
  },
  {
   "cell_type": "code",
   "execution_count": null,
   "metadata": {},
   "outputs": [],
   "source": [
    "# get a list of the classes\n",
    "classes = g.subjects(rdf.type, rdfs.Class)\n",
    "\n",
    "# and now create the shapeToSpec div for each class\n",
    "for c in classes:\n",
    "    name = str(c)\n",
    "    name = name[name.index('#')+1:]\n",
    "    print(\n",
    "f\"\"\"\n",
    "\n",
    "<div\n",
    "        title=\"Constraints for {name}\"\n",
    "        data-include=\"./sysml-shapes.ttl#{name}Shape\"\n",
    "        data-oninclude=\"shapeToSpec\"\n",
    "        data-include-sync=\"true\"\n",
    "        data-include-replace=\"true\"\n",
    "        data-include-format=\"html\"\n",
    "      ></div>\n",
    "\"\"\"        \n",
    "    )"
   ]
  },
  {
   "cell_type": "code",
   "execution_count": null,
   "metadata": {},
   "outputs": [],
   "source": [
    "# Convert the rdfs:comments to a single paragraph of plain text\n",
    "from bs4 import BeautifulSoup\n",
    "import copy\n",
    "\n",
    "g2 = copy.deepcopy(g)\n",
    "for s,p,o in g2.triples((None, rdfs.comment, None)):\n",
    "    # Get just the first paragraph of the comment\n",
    "    root = BeautifulSoup(str(o))\n",
    "    comment = root.find('p').get_text()  # the first paragraph with the HTML stripped out\n",
    "    # remove the triple\n",
    "    g.remove((s,p,o))\n",
    "    # add the new comment\n",
    "    g.add((s,p,Literal(comment)))\n",
    "\n",
    "g.serialize(destination='../sysml-vocab.ttl')\n",
    "\n"
   ]
  },
  {
   "cell_type": "code",
   "execution_count": null,
   "metadata": {},
   "outputs": [],
   "source": [
    "# Set shape dcterms:descriptions to just the first paragraph\n",
    "g = Graph()\n",
    "g.parse('sysml-shapes-full.ttl')\n",
    "\n",
    "g2 = copy.deepcopy(g)\n",
    "for s,p,o in g2.triples((None, dcterms.description, None)):\n",
    "    # Get just the first paragraph of the comment\n",
    "    root = BeautifulSoup(str(o))\n",
    "    description = root.find('p')  # the first paragraph but keep the markdown\n",
    "    # remove the triple\n",
    "    g.remove((s,p,o))\n",
    "    # add the new description\n",
    "    g.add((s,p,Literal(description)))\n",
    "\n",
    "g.serialize(destination='../sysml-shapes.ttl')\n",
    "\n"
   ]
  },
  {
   "cell_type": "code",
   "execution_count": 10,
   "metadata": {},
   "outputs": [
    {
     "data": {
      "text/plain": [
       "<Graph identifier=Nedc6b4d29f3a43b2947d38ced2342ef5 (<class 'rdflib.graph.Graph'>)>"
      ]
     },
     "execution_count": 10,
     "metadata": {},
     "output_type": "execute_result"
    }
   ],
   "source": [
    "# Add the rdf:Property and rdfs:Class rdfs:isDefinedBy  oslc_sysmlv2: \n",
    "\n",
    "g = Graph()\n",
    "g.parse('../sysml-vocab.ttl')\n",
    "\n",
    "oslc_sysmlv2 = URIRef('http://open-services.net/ns/sysmlv2#')\n",
    "\n",
    "g2 = copy.deepcopy(g)\n",
    "for s,p,o in g2.triples((None, rdf.type, rdf.Property)):\n",
    "    g.add((s,rdfs.isDefinedBy, oslc_sysmlv2))\n",
    "\n",
    "for s,p,o in g2.triples((None, rdf.type, rdfs.Class)):\n",
    "    g.add((s,rdfs.isDefinedBy, oslc_sysmlv2))\n",
    "\n",
    "g.serialize(destination='../sysml-vocab.ttl')"
   ]
  },
  {
   "cell_type": "code",
   "execution_count": 8,
   "metadata": {},
   "outputs": [
    {
     "data": {
      "text/plain": [
       "<Graph identifier=N1abcb63b808f469aa9a72794c46ce798 (<class 'rdflib.graph.Graph'>)>"
      ]
     },
     "execution_count": 8,
     "metadata": {},
     "output_type": "execute_result"
    }
   ],
   "source": [
    "# Add the ResourceShape Properties that should be inherited from oslc_am\n",
    "\n",
    "sysml_shapes = Namespace(\"http://open-services.net/ns/sysml/shapes/2.0/#\")\n",
    "\n",
    "g = Graph()\n",
    "g.parse('../sysml-shapes.ttl')\n",
    "\n",
    "# get a list of the classes\n",
    "shapes = g.subjects(rdf.type, oslc.ResourceShape)\n",
    "\n",
    "# and now create the shapeToSpec div for each class\n",
    "for c in shapes:\n",
    "    g.add((c, oslc.property, sysml_shapes.type))\n",
    "    g.add((c, oslc.property, sysml_shapes.dctype))\n",
    "    g.add((c, oslc.property, sysml_shapes.identifier))\n",
    "    g.add((c, oslc.property, sysml_shapes.title))\n",
    "    g.add((c, oslc.property, sysml_shapes.shortTitle))\n",
    "    g.add((c, oslc.property, sysml_shapes.description))\n",
    "    g.add((c, oslc.property, sysml_shapes.source))\n",
    "    g.add((c, oslc.property, sysml_shapes.creator))\n",
    "    g.add((c, oslc.property, sysml_shapes.created))\n",
    "    g.add((c, oslc.property, sysml_shapes.contributor))\n",
    "    g.add((c, oslc.property, sysml_shapes.modified))\n",
    "    g.add((c, oslc.property, sysml_shapes.serviceProvider))\n",
    "    g.add((c, oslc.property, sysml_shapes.instanceShape))\n",
    "    g.add((c, oslc.property, sysml_shapes.derives))\n",
    "    g.add((c, oslc.property, sysml_shapes.elaborates))\n",
    "    g.add((c, oslc.property, sysml_shapes.refine))\n",
    "    g.add((c, oslc.property, sysml_shapes.external))\n",
    "    g.add((c, oslc.property, sysml_shapes.satisfy))\n",
    "    g.add((c, oslc.property, sysml_shapes.trace))\n",
    "\n",
    "\n",
    "g.serialize(destination='../sysml-shapes2.ttl')"
   ]
  },
  {
   "cell_type": "markdown",
   "metadata": {},
   "source": []
  }
 ],
 "metadata": {
  "kernelspec": {
   "display_name": "Python 3",
   "language": "python",
   "name": "python3"
  },
  "language_info": {
   "codemirror_mode": {
    "name": "ipython",
    "version": 3
   },
   "file_extension": ".py",
   "mimetype": "text/x-python",
   "name": "python",
   "nbconvert_exporter": "python",
   "pygments_lexer": "ipython3",
   "version": "3.11.4"
  }
 },
 "nbformat": 4,
 "nbformat_minor": 2
}
